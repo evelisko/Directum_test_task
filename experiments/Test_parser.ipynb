{
 "metadata": {
  "language_info": {
   "codemirror_mode": {
    "name": "ipython",
    "version": 3
   },
   "file_extension": ".py",
   "mimetype": "text/x-python",
   "name": "python",
   "nbconvert_exporter": "python",
   "pygments_lexer": "ipython3",
   "version": "3.8.11"
  },
  "orig_nbformat": 2,
  "kernelspec": {
   "name": "python3",
   "display_name": "Python 3.8.11 64-bit ('flask_env': conda)"
  },
  "interpreter": {
   "hash": "62dd627b42f7be5ac4860eaea1da73cb3512da440d2a8d50504113f4a8e682ee"
  }
 },
 "nbformat": 4,
 "nbformat_minor": 2,
 "cells": [
  {
   "cell_type": "markdown",
   "source": [
    "### Проверка того, что наше api работает\n",
    "\n",
    "Перед началом необходимо собрать docker-образ и запустить контейнер\n",
    "    \n",
    "    1. Собрать докер контейнер согласно иснтрукции из README;\n",
    "    2. Запустить контейнер;\n",
    "    3. Запустить код ниже. "
   ],
   "metadata": {}
  },
  {
   "cell_type": "code",
   "execution_count": 29,
   "source": [
    "import pandas as pd\n",
    "# import urllib.request\n",
    "import json \n",
    "# from sklearn.metrics import roc_auc_score,roc_curve,scorer\n",
    "import urllib3# import request, parse\n",
    "# import imageio\n",
    "import os"
   ],
   "outputs": [],
   "metadata": {}
  },
  {
   "cell_type": "code",
   "execution_count": 22,
   "source": [
    "# !pip install urllib3"
   ],
   "outputs": [],
   "metadata": {}
  },
  {
   "cell_type": "code",
   "execution_count": 30,
   "source": [
    " # URL адрес нашего сервера, где.\n",
    " myurl = \"http://localhost:8180/servise\" "
   ],
   "outputs": [],
   "metadata": {}
  },
  {
   "cell_type": "code",
   "execution_count": 24,
   "source": [
    "# request -- это библиотека."
   ],
   "outputs": [],
   "metadata": {}
  },
  {
   "cell_type": "code",
   "execution_count": 25,
   "source": [
    "# fields = {\n",
    "#         'file':(os.path.basename(file_name), open(file_name,'rb'), 'image/jpeg'),\n",
    "#         'json':(None, json.dumps(body), 'application/json')\n",
    "#         } \n",
    "# response = urllib3.request(\"POST\",myurl, fields=fields)"
   ],
   "outputs": [],
   "metadata": {}
  },
  {
   "cell_type": "code",
   "execution_count": 33,
   "source": [
    "# Процедура для отправки POST запросов к серверу.\n",
    "def flask_server_exchenge(body={}, file_name=None):\n",
    "\n",
    "    data = {\n",
    "            # 'file':(os.path.basename(file_name), open(file_name,'rb'), 'image/jpeg'),\n",
    "            'json':(None, json.dumps(body), 'application/json')\n",
    "           }\n",
    "    \n",
    "    response = urllib.request(\"POST\",myurl, fields=data) \n",
    "    # print(data)\n",
    "    # jsondata = json.dumps(data)\n",
    "    # data_as_bytes = jsondata.encode('utf-8') # needs to be bytes  \n",
    "    \n",
    "    # req = urllib.request.Request(myurl)\n",
    "\n",
    "    # req.add_header('Content-Type', 'application/json; charset=utf-8')\n",
    "    # req.add_header('Content-Length', len(data_as_bytes))\n",
    "    # response = urllib.request.urlopen(req, data= data_as_bytes)\n",
    "\n",
    "    \n",
    "    return json.loads(response.read()) # Получаем ответ на запрос."
   ],
   "outputs": [],
   "metadata": {}
  },
  {
   "cell_type": "code",
   "execution_count": 34,
   "source": [
    "# Выполняет поиск фильма в датасете.\n",
    "def get_image_class_name(file_name):\n",
    "    result = 0\n",
    "#     title = field_array\n",
    "    body = {\n",
    "            'method':\"image_class\", \n",
    "        #   'title': title\n",
    "            }\n",
    "    titles = flask_server_exchenge(body,file_name) #['titles']\n",
    "    print(titles)\n",
    "#     ind = 1\n",
    "#     for title in titles:\n",
    "#             print(f'{ind} : {title}')\n",
    "#             ind += 1"
   ],
   "outputs": [],
   "metadata": {}
  },
  {
   "cell_type": "code",
   "execution_count": 37,
   "source": [
    "method = {\"method\": \"image_class\"}"
   ],
   "outputs": [],
   "metadata": {}
  },
  {
   "cell_type": "code",
   "execution_count": 38,
   "source": [
    "method[\"method\"]"
   ],
   "outputs": [
    {
     "output_type": "execute_result",
     "data": {
      "text/plain": [
       "'image_class'"
      ]
     },
     "metadata": {},
     "execution_count": 38
    }
   ],
   "metadata": {}
  },
  {
   "cell_type": "markdown",
   "source": [
    "# Проверка. "
   ],
   "metadata": {}
  },
  {
   "cell_type": "code",
   "execution_count": 35,
   "source": [
    "get_image_class_name(file_name='./app/food-images/coffee.jpeg')"
   ],
   "outputs": [
    {
     "output_type": "error",
     "ename": "TypeError",
     "evalue": "'module' object is not callable",
     "traceback": [
      "\u001b[0;31m---------------------------------------------------------------------------\u001b[0m",
      "\u001b[0;31mTypeError\u001b[0m                                 Traceback (most recent call last)",
      "\u001b[0;32m/tmp/ipykernel_42465/763100217.py\u001b[0m in \u001b[0;36m<module>\u001b[0;34m\u001b[0m\n\u001b[0;32m----> 1\u001b[0;31m \u001b[0mget_image_class_name\u001b[0m\u001b[0;34m(\u001b[0m\u001b[0mfile_name\u001b[0m\u001b[0;34m=\u001b[0m\u001b[0;34m'./app/food-images/coffee.jpeg'\u001b[0m\u001b[0;34m)\u001b[0m\u001b[0;34m\u001b[0m\u001b[0;34m\u001b[0m\u001b[0m\n\u001b[0m",
      "\u001b[0;32m/tmp/ipykernel_42465/3557453138.py\u001b[0m in \u001b[0;36mget_image_class_name\u001b[0;34m(file_name)\u001b[0m\n\u001b[1;32m      7\u001b[0m         \u001b[0;31m#   'title': title\u001b[0m\u001b[0;34m\u001b[0m\u001b[0;34m\u001b[0m\u001b[0;34m\u001b[0m\u001b[0m\n\u001b[1;32m      8\u001b[0m             }\n\u001b[0;32m----> 9\u001b[0;31m     \u001b[0mtitles\u001b[0m \u001b[0;34m=\u001b[0m \u001b[0mflask_server_exchenge\u001b[0m\u001b[0;34m(\u001b[0m\u001b[0mbody\u001b[0m\u001b[0;34m,\u001b[0m\u001b[0mfile_name\u001b[0m\u001b[0;34m)\u001b[0m \u001b[0;31m#['titles']\u001b[0m\u001b[0;34m\u001b[0m\u001b[0;34m\u001b[0m\u001b[0m\n\u001b[0m\u001b[1;32m     10\u001b[0m     \u001b[0mprint\u001b[0m\u001b[0;34m(\u001b[0m\u001b[0mtitles\u001b[0m\u001b[0;34m)\u001b[0m\u001b[0;34m\u001b[0m\u001b[0;34m\u001b[0m\u001b[0m\n\u001b[1;32m     11\u001b[0m \u001b[0;31m#     ind = 1\u001b[0m\u001b[0;34m\u001b[0m\u001b[0;34m\u001b[0m\u001b[0;34m\u001b[0m\u001b[0m\n",
      "\u001b[0;32m/tmp/ipykernel_42465/2771639132.py\u001b[0m in \u001b[0;36mflask_server_exchenge\u001b[0;34m(body, file_name)\u001b[0m\n\u001b[1;32m      7\u001b[0m            }\n\u001b[1;32m      8\u001b[0m \u001b[0;34m\u001b[0m\u001b[0m\n\u001b[0;32m----> 9\u001b[0;31m     \u001b[0mresponse\u001b[0m \u001b[0;34m=\u001b[0m \u001b[0murllib\u001b[0m\u001b[0;34m.\u001b[0m\u001b[0mrequest\u001b[0m\u001b[0;34m(\u001b[0m\u001b[0;34m\"POST\"\u001b[0m\u001b[0;34m,\u001b[0m\u001b[0mmyurl\u001b[0m\u001b[0;34m,\u001b[0m \u001b[0mfields\u001b[0m\u001b[0;34m=\u001b[0m\u001b[0mdata\u001b[0m\u001b[0;34m)\u001b[0m\u001b[0;34m\u001b[0m\u001b[0;34m\u001b[0m\u001b[0m\n\u001b[0m\u001b[1;32m     10\u001b[0m     \u001b[0;31m# print(data)\u001b[0m\u001b[0;34m\u001b[0m\u001b[0;34m\u001b[0m\u001b[0;34m\u001b[0m\u001b[0m\n\u001b[1;32m     11\u001b[0m     \u001b[0;31m# jsondata = json.dumps(data)\u001b[0m\u001b[0;34m\u001b[0m\u001b[0;34m\u001b[0m\u001b[0;34m\u001b[0m\u001b[0m\n",
      "\u001b[0;31mTypeError\u001b[0m: 'module' object is not callable"
     ]
    }
   ],
   "metadata": {}
  },
  {
   "cell_type": "code",
   "execution_count": null,
   "source": [
    "# # Возвращает описание фильма. \n",
    "# def film_info(field_array=None):\n",
    "#     result = 0\n",
    "#     title = field_array\n",
    "#     body = {\n",
    "#             'method':\"film_info\", \n",
    "#             'title': title} \n",
    "#     return flask_server_exchenge(body)['description']"
   ],
   "outputs": [],
   "metadata": {}
  },
  {
   "cell_type": "code",
   "execution_count": null,
   "source": [
    "# # Возвращает список рекоммендаций для нашего фильма. По принципу схожести. \n",
    "# def get_recomendations(title, count = 5):\n",
    "#     result = 0\n",
    "#     body = {\n",
    "#             'method':'recomendations',\n",
    "#             'title': title,\n",
    "#             'count': count\n",
    "#             }\n",
    "             \n",
    "#     titles = flask_server_exchenge(body)['titles']\n",
    "#     ind = 1\n",
    "#     for title in titles:\n",
    "#             print(f'{ind} : {title}')\n",
    "#             ind +=1"
   ],
   "outputs": [],
   "metadata": {}
  },
  {
   "cell_type": "markdown",
   "source": [
    "### Проверка "
   ],
   "metadata": {}
  },
  {
   "cell_type": "code",
   "execution_count": null,
   "source": [
    "# search_films('Witcher')"
   ],
   "outputs": [
    {
     "output_type": "stream",
     "name": "stdout",
     "text": [
      "1 : Making The Witcher\n",
      "2 : The Witcher\n",
      "3 : The Witcher: A Look Inside the Episodes\n"
     ]
    }
   ],
   "metadata": {}
  },
  {
   "cell_type": "code",
   "execution_count": null,
   "source": [
    "# search_films('sabrina')"
   ],
   "outputs": [
    {
     "output_type": "stream",
     "name": "stdout",
     "text": [
      "1 : BoJack Horseman Christmas Special: Sabrina's Christmas Wish\n",
      "2 : Chilling Adventures of Sabrina\n",
      "3 : Sabrina\n"
     ]
    }
   ],
   "metadata": {}
  },
  {
   "cell_type": "code",
   "execution_count": null,
   "source": [
    "# film_info('Chilling Adventures of Sabrina')"
   ],
   "outputs": [
    {
     "output_type": "execute_result",
     "data": {
      "text/plain": [
       "\"Magic and mischief collide as half-human, half-witch Sabrina navigates between two worlds: mortal teen life and her family's legacy, the Church of Night.\""
      ]
     },
     "metadata": {},
     "execution_count": 9
    }
   ],
   "metadata": {}
  },
  {
   "cell_type": "code",
   "execution_count": null,
   "source": [
    "# get_recomendations('Chilling Adventures of Sabrina',5)"
   ],
   "outputs": [
    {
     "output_type": "stream",
     "name": "stdout",
     "text": [
      "1 : The Silence\n",
      "2 : Fear Files... Har Mod Pe Darr\n",
      "3 : Haunters: The Art of the Scare\n",
      "4 : The Sinner\n",
      "5 : The Legend of Korra\n"
     ]
    }
   ],
   "metadata": {}
  },
  {
   "cell_type": "code",
   "execution_count": null,
   "source": [
    "# get_recomendations('The Witcher',7)"
   ],
   "outputs": [
    {
     "output_type": "stream",
     "name": "stdout",
     "text": [
      "1 : The Witcher: A Look Inside the Episodes\n",
      "2 : Making The Witcher\n",
      "3 : Little Dragon Maiden\n",
      "4 : Justin Time\n",
      "5 : Extreme Engagement\n",
      "6 : Lionheart\n",
      "7 : Supermarket Sweep\n"
     ]
    }
   ],
   "metadata": {}
  }
 ]
}