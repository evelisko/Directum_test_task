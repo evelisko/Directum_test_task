{
 "cells": [
  {
   "cell_type": "code",
   "execution_count": 1,
   "source": [
    "import os\n",
    "import random\n",
    "import cv2\n",
    "from tqdm import tqdm\n",
    "import pandas as pd\n",
    "import numpy as np\n",
    "import matplotlib.pyplot as plt\n",
    "import xml.etree.ElementTree as ET\n",
    "from PIL import Image\n",
    "from pathlib import Path"
   ],
   "outputs": [],
   "metadata": {}
  },
  {
   "cell_type": "code",
   "execution_count": 2,
   "source": [
    "# !pip install tqdm"
   ],
   "outputs": [],
   "metadata": {}
  },
  {
   "cell_type": "code",
   "execution_count": 3,
   "source": [
    "# TODO: 1. Привести изображение к чернобелому виду. \n",
    "# TODO: 2. Проверить помещается ли изображение в нейронную сеть. \n",
    "# TODO: 3. Разрезать изображение на кусочки и подавать его в нейронную сеть по частям. \n",
    "#       4. Научить склеивать изображения, после прохода через нейронную сеть. "
   ],
   "outputs": [],
   "metadata": {}
  },
  {
   "cell_type": "code",
   "execution_count": 4,
   "source": [
    "DATA_ROOT = '../pages/'\n",
    "\n",
    "class_names = {'Void':0,'DLSignature':1,'DLLogo':2}\n",
    "\n",
    "# IM_SIZE = (1200,1600)\n",
    "IM_SIZE = (600,800)"
   ],
   "outputs": [],
   "metadata": {}
  },
  {
   "cell_type": "code",
   "execution_count": 5,
   "source": [
    "images_path = Path(DATA_ROOT+'source/')\n",
    "annotation_path = Path(DATA_ROOT+'truth/')"
   ],
   "outputs": [],
   "metadata": {}
  },
  {
   "cell_type": "code",
   "execution_count": 6,
   "source": [
    "# <DL_ZONE gedi_type=\"DLLogo\"      id=\"None\" col=\"92\" row=\"167\" width=\"755\" height=\"228\"> </DL_ZONE>\n",
    "# <DL_ZONE gedi_type=\"DLSignature\" id=\"None\" col=\"821\" row=\"1422\" width=\"757\" height=\"183\" Overlapped=\"Yes\" AuthorID=\"Koplow, M.G.\"> </DL_ZONE>"
   ],
   "outputs": [],
   "metadata": {}
  },
  {
   "cell_type": "code",
   "execution_count": 7,
   "source": [
    "def filelist(root, file_type):\n",
    "    \"\"\"Функция возвращает полностью квалифицированный список файлов в директории\"\"\"\n",
    "    return [os.path.join(directory_path, f) for directory_path, directory_name, \n",
    "            files in os.walk(root) for f in files if f.endswith(file_type)]"
   ],
   "outputs": [],
   "metadata": {}
  },
  {
   "cell_type": "code",
   "execution_count": 8,
   "source": [
    "def generate_df(path):\n",
    "    anno_list = []\n",
    "    annotations = filelist(path, '.xml')\n",
    "    ns = {'doc': \"http://lamp.cfar.umd.edu/GEDI\"}\n",
    "\n",
    "    for anno_path in annotations:\n",
    "        anno = {}\n",
    "        root = ET.parse(anno_path).getroot()\n",
    "\n",
    "        document  = root.find('doc:DL_DOCUMENT',ns)\n",
    "\n",
    "        doc_attrib = document.attrib\n",
    "\n",
    "        anno['doc_name'] = Path(str(images_path) + '/'+ doc_attrib['src'])\n",
    "        anno['pages'] = doc_attrib['NrOfPages']\n",
    "        #=================================================================#\n",
    "        page = document.find('doc:DL_PAGE',ns)\n",
    "        page_attrib = page.attrib\n",
    "        # anno['page_name'] = Path(str(images_path) + '/'+ page_attrib['src'])\n",
    "        anno['page_id'] = page_attrib['pageID']\n",
    "        anno['width'] = int(page_attrib['width'])#.astype(np.int)\n",
    "        anno['height'] = int(page_attrib['height'])#.astype(np.int)\n",
    "        #=================================================================#\n",
    "\n",
    "        zone = page.find('doc:DL_ZONE',ns)\n",
    "        # anno['zone_type'] = ''\n",
    "        if zone is not None:\n",
    "            zone_attrib = zone.attrib\n",
    "\n",
    "            anno['zone_type'] = zone_attrib['gedi_type']\n",
    "            # anno['zone_id'] = zone_attrib['id']\n",
    "            anno['zone_col'] = int(zone_attrib['col']) #.astype(np.int)\n",
    "            anno['zone_row'] = int(zone_attrib['row']) #.astype(np.int)\n",
    "            anno['zone_width'] = int(zone_attrib['width'])#.astype(np.int)\n",
    "            anno['zone_height'] = int(zone_attrib['height'])#.astype(np.int)\n",
    "            # if anno['zone_type'] == \"DLSignature\":\n",
    "            #     anno['zone_Overlapped'] = zone_attrib['Overlapped']\n",
    "            #     anno['zone_AuthorID'] = zone_attrib['AuthorID']\n",
    "        anno_list.append(anno)\n",
    "    return pd.DataFrame(anno_list)"
   ],
   "outputs": [],
   "metadata": {}
  },
  {
   "cell_type": "code",
   "execution_count": 9,
   "source": [
    "df = generate_df(annotation_path)\n",
    "df"
   ],
   "outputs": [
    {
     "output_type": "execute_result",
     "data": {
      "text/html": [
       "<div>\n",
       "<style scoped>\n",
       "    .dataframe tbody tr th:only-of-type {\n",
       "        vertical-align: middle;\n",
       "    }\n",
       "\n",
       "    .dataframe tbody tr th {\n",
       "        vertical-align: top;\n",
       "    }\n",
       "\n",
       "    .dataframe thead th {\n",
       "        text-align: right;\n",
       "    }\n",
       "</style>\n",
       "<table border=\"1\" class=\"dataframe\">\n",
       "  <thead>\n",
       "    <tr style=\"text-align: right;\">\n",
       "      <th></th>\n",
       "      <th>doc_name</th>\n",
       "      <th>pages</th>\n",
       "      <th>page_id</th>\n",
       "      <th>width</th>\n",
       "      <th>height</th>\n",
       "      <th>zone_type</th>\n",
       "      <th>zone_col</th>\n",
       "      <th>zone_row</th>\n",
       "      <th>zone_width</th>\n",
       "      <th>zone_height</th>\n",
       "    </tr>\n",
       "  </thead>\n",
       "  <tbody>\n",
       "    <tr>\n",
       "      <th>0</th>\n",
       "      <td>../pages/source/mcm24f00_2.tif</td>\n",
       "      <td>1</td>\n",
       "      <td>1</td>\n",
       "      <td>2592</td>\n",
       "      <td>3300</td>\n",
       "      <td>NaN</td>\n",
       "      <td>NaN</td>\n",
       "      <td>NaN</td>\n",
       "      <td>NaN</td>\n",
       "      <td>NaN</td>\n",
       "    </tr>\n",
       "    <tr>\n",
       "      <th>1</th>\n",
       "      <td>../pages/source/nsr05f00_2.tif</td>\n",
       "      <td>1</td>\n",
       "      <td>1</td>\n",
       "      <td>2592</td>\n",
       "      <td>3300</td>\n",
       "      <td>NaN</td>\n",
       "      <td>NaN</td>\n",
       "      <td>NaN</td>\n",
       "      <td>NaN</td>\n",
       "      <td>NaN</td>\n",
       "    </tr>\n",
       "    <tr>\n",
       "      <th>2</th>\n",
       "      <td>../pages/source/adh36e00-page2_2.tif</td>\n",
       "      <td>1</td>\n",
       "      <td>1</td>\n",
       "      <td>2560</td>\n",
       "      <td>3246</td>\n",
       "      <td>DLSignature</td>\n",
       "      <td>1232.0</td>\n",
       "      <td>2399.0</td>\n",
       "      <td>896.0</td>\n",
       "      <td>431.0</td>\n",
       "    </tr>\n",
       "    <tr>\n",
       "      <th>3</th>\n",
       "      <td>../pages/source/jon00a00.tif</td>\n",
       "      <td>1</td>\n",
       "      <td>1</td>\n",
       "      <td>2504</td>\n",
       "      <td>3111</td>\n",
       "      <td>DLSignature</td>\n",
       "      <td>1374.0</td>\n",
       "      <td>2478.0</td>\n",
       "      <td>668.0</td>\n",
       "      <td>304.0</td>\n",
       "    </tr>\n",
       "    <tr>\n",
       "      <th>4</th>\n",
       "      <td>../pages/source/byd23a00.tif</td>\n",
       "      <td>1</td>\n",
       "      <td>1</td>\n",
       "      <td>1728</td>\n",
       "      <td>2292</td>\n",
       "      <td>DLSignature</td>\n",
       "      <td>837.0</td>\n",
       "      <td>1014.0</td>\n",
       "      <td>302.0</td>\n",
       "      <td>135.0</td>\n",
       "    </tr>\n",
       "    <tr>\n",
       "      <th>...</th>\n",
       "      <td>...</td>\n",
       "      <td>...</td>\n",
       "      <td>...</td>\n",
       "      <td>...</td>\n",
       "      <td>...</td>\n",
       "      <td>...</td>\n",
       "      <td>...</td>\n",
       "      <td>...</td>\n",
       "      <td>...</td>\n",
       "      <td>...</td>\n",
       "    </tr>\n",
       "    <tr>\n",
       "      <th>995</th>\n",
       "      <td>../pages/source/mht90f00-var-full_1.tif</td>\n",
       "      <td>1</td>\n",
       "      <td>1</td>\n",
       "      <td>1200</td>\n",
       "      <td>1575</td>\n",
       "      <td>DLSignature</td>\n",
       "      <td>170.0</td>\n",
       "      <td>1049.0</td>\n",
       "      <td>394.0</td>\n",
       "      <td>65.0</td>\n",
       "    </tr>\n",
       "    <tr>\n",
       "      <th>996</th>\n",
       "      <td>../pages/source/qpb44c00-page03_1.tif</td>\n",
       "      <td>1</td>\n",
       "      <td>1</td>\n",
       "      <td>2592</td>\n",
       "      <td>3300</td>\n",
       "      <td>NaN</td>\n",
       "      <td>NaN</td>\n",
       "      <td>NaN</td>\n",
       "      <td>NaN</td>\n",
       "      <td>NaN</td>\n",
       "    </tr>\n",
       "    <tr>\n",
       "      <th>997</th>\n",
       "      <td>../pages/source/hty24f00-page02_1.tif</td>\n",
       "      <td>1</td>\n",
       "      <td>1</td>\n",
       "      <td>2592</td>\n",
       "      <td>3300</td>\n",
       "      <td>NaN</td>\n",
       "      <td>NaN</td>\n",
       "      <td>NaN</td>\n",
       "      <td>NaN</td>\n",
       "      <td>NaN</td>\n",
       "    </tr>\n",
       "    <tr>\n",
       "      <th>998</th>\n",
       "      <td>../pages/source/ahs60f00.tif</td>\n",
       "      <td>1</td>\n",
       "      <td>1</td>\n",
       "      <td>1200</td>\n",
       "      <td>1575</td>\n",
       "      <td>DLSignature</td>\n",
       "      <td>706.0</td>\n",
       "      <td>1110.0</td>\n",
       "      <td>202.0</td>\n",
       "      <td>52.0</td>\n",
       "    </tr>\n",
       "    <tr>\n",
       "      <th>999</th>\n",
       "      <td>../pages/source/cir10f00.tif</td>\n",
       "      <td>1</td>\n",
       "      <td>1</td>\n",
       "      <td>1200</td>\n",
       "      <td>1575</td>\n",
       "      <td>DLSignature</td>\n",
       "      <td>628.0</td>\n",
       "      <td>990.0</td>\n",
       "      <td>183.0</td>\n",
       "      <td>63.0</td>\n",
       "    </tr>\n",
       "  </tbody>\n",
       "</table>\n",
       "<p>1000 rows × 10 columns</p>\n",
       "</div>"
      ],
      "text/plain": [
       "                                    doc_name pages page_id  width  height  \\\n",
       "0             ../pages/source/mcm24f00_2.tif     1       1   2592    3300   \n",
       "1             ../pages/source/nsr05f00_2.tif     1       1   2592    3300   \n",
       "2       ../pages/source/adh36e00-page2_2.tif     1       1   2560    3246   \n",
       "3               ../pages/source/jon00a00.tif     1       1   2504    3111   \n",
       "4               ../pages/source/byd23a00.tif     1       1   1728    2292   \n",
       "..                                       ...   ...     ...    ...     ...   \n",
       "995  ../pages/source/mht90f00-var-full_1.tif     1       1   1200    1575   \n",
       "996    ../pages/source/qpb44c00-page03_1.tif     1       1   2592    3300   \n",
       "997    ../pages/source/hty24f00-page02_1.tif     1       1   2592    3300   \n",
       "998             ../pages/source/ahs60f00.tif     1       1   1200    1575   \n",
       "999             ../pages/source/cir10f00.tif     1       1   1200    1575   \n",
       "\n",
       "       zone_type  zone_col  zone_row  zone_width  zone_height  \n",
       "0            NaN       NaN       NaN         NaN          NaN  \n",
       "1            NaN       NaN       NaN         NaN          NaN  \n",
       "2    DLSignature    1232.0    2399.0       896.0        431.0  \n",
       "3    DLSignature    1374.0    2478.0       668.0        304.0  \n",
       "4    DLSignature     837.0    1014.0       302.0        135.0  \n",
       "..           ...       ...       ...         ...          ...  \n",
       "995  DLSignature     170.0    1049.0       394.0         65.0  \n",
       "996          NaN       NaN       NaN         NaN          NaN  \n",
       "997          NaN       NaN       NaN         NaN          NaN  \n",
       "998  DLSignature     706.0    1110.0       202.0         52.0  \n",
       "999  DLSignature     628.0     990.0       183.0         63.0  \n",
       "\n",
       "[1000 rows x 10 columns]"
      ]
     },
     "metadata": {},
     "execution_count": 9
    }
   ],
   "metadata": {}
  },
  {
   "cell_type": "code",
   "execution_count": 10,
   "source": [
    "df['zone_type'].value_counts()"
   ],
   "outputs": [
    {
     "output_type": "execute_result",
     "data": {
      "text/plain": [
       "DLSignature    595\n",
       "DLLogo          65\n",
       "Name: zone_type, dtype: int64"
      ]
     },
     "metadata": {},
     "execution_count": 10
    }
   ],
   "metadata": {}
  },
  {
   "cell_type": "code",
   "execution_count": null,
   "source": [],
   "outputs": [],
   "metadata": {}
  },
  {
   "cell_type": "code",
   "execution_count": 11,
   "source": [
    "# Заполним пропуски. \n",
    "df.loc[(df['zone_type'].isnull()),'zone_type'] = 'Void'\n",
    "\n",
    "# Приведем все классы к цыфровому виду.\n",
    "df['zone_type'] = df['zone_type'].apply(lambda x: class_names[x])"
   ],
   "outputs": [],
   "metadata": {}
  },
  {
   "cell_type": "code",
   "execution_count": 12,
   "source": [
    "df['zone_type'].value_counts() "
   ],
   "outputs": [
    {
     "output_type": "execute_result",
     "data": {
      "text/plain": [
       "1    595\n",
       "0    340\n",
       "2     65\n",
       "Name: zone_type, dtype: int64"
      ]
     },
     "metadata": {},
     "execution_count": 12
    }
   ],
   "metadata": {}
  },
  {
   "cell_type": "code",
   "execution_count": 13,
   "source": [
    "# Изображений с логотипами очень мало.\n",
    "# Есть большая вероятность, что на них нейронная сеть будет очень плохо обучаться.  "
   ],
   "outputs": [],
   "metadata": {}
  },
  {
   "cell_type": "markdown",
   "source": [
    "### Номер страницы будем извлекать из названия."
   ],
   "metadata": {}
  },
  {
   "cell_type": "code",
   "execution_count": 14,
   "source": [
    "df.describe()"
   ],
   "outputs": [
    {
     "output_type": "execute_result",
     "data": {
      "text/html": [
       "<div>\n",
       "<style scoped>\n",
       "    .dataframe tbody tr th:only-of-type {\n",
       "        vertical-align: middle;\n",
       "    }\n",
       "\n",
       "    .dataframe tbody tr th {\n",
       "        vertical-align: top;\n",
       "    }\n",
       "\n",
       "    .dataframe thead th {\n",
       "        text-align: right;\n",
       "    }\n",
       "</style>\n",
       "<table border=\"1\" class=\"dataframe\">\n",
       "  <thead>\n",
       "    <tr style=\"text-align: right;\">\n",
       "      <th></th>\n",
       "      <th>width</th>\n",
       "      <th>height</th>\n",
       "      <th>zone_type</th>\n",
       "      <th>zone_col</th>\n",
       "      <th>zone_row</th>\n",
       "      <th>zone_width</th>\n",
       "      <th>zone_height</th>\n",
       "    </tr>\n",
       "  </thead>\n",
       "  <tbody>\n",
       "    <tr>\n",
       "      <th>count</th>\n",
       "      <td>1000.000000</td>\n",
       "      <td>1000.000000</td>\n",
       "      <td>1000.000000</td>\n",
       "      <td>660.000000</td>\n",
       "      <td>660.000000</td>\n",
       "      <td>660.000000</td>\n",
       "      <td>660.000000</td>\n",
       "    </tr>\n",
       "    <tr>\n",
       "      <th>mean</th>\n",
       "      <td>2125.276000</td>\n",
       "      <td>2735.698000</td>\n",
       "      <td>0.725000</td>\n",
       "      <td>808.927273</td>\n",
       "      <td>1308.813636</td>\n",
       "      <td>434.856061</td>\n",
       "      <td>143.706061</td>\n",
       "    </tr>\n",
       "    <tr>\n",
       "      <th>std</th>\n",
       "      <td>585.006178</td>\n",
       "      <td>724.824685</td>\n",
       "      <td>0.574199</td>\n",
       "      <td>414.598628</td>\n",
       "      <td>698.596510</td>\n",
       "      <td>229.106523</td>\n",
       "      <td>77.788057</td>\n",
       "    </tr>\n",
       "    <tr>\n",
       "      <th>min</th>\n",
       "      <td>1200.000000</td>\n",
       "      <td>1575.000000</td>\n",
       "      <td>0.000000</td>\n",
       "      <td>29.000000</td>\n",
       "      <td>1.000000</td>\n",
       "      <td>69.000000</td>\n",
       "      <td>35.000000</td>\n",
       "    </tr>\n",
       "    <tr>\n",
       "      <th>25%</th>\n",
       "      <td>1728.000000</td>\n",
       "      <td>2292.000000</td>\n",
       "      <td>0.000000</td>\n",
       "      <td>561.000000</td>\n",
       "      <td>813.750000</td>\n",
       "      <td>264.000000</td>\n",
       "      <td>86.000000</td>\n",
       "    </tr>\n",
       "    <tr>\n",
       "      <th>50%</th>\n",
       "      <td>2544.000000</td>\n",
       "      <td>3258.000000</td>\n",
       "      <td>1.000000</td>\n",
       "      <td>715.000000</td>\n",
       "      <td>1211.500000</td>\n",
       "      <td>365.500000</td>\n",
       "      <td>124.500000</td>\n",
       "    </tr>\n",
       "    <tr>\n",
       "      <th>75%</th>\n",
       "      <td>2592.000000</td>\n",
       "      <td>3300.000000</td>\n",
       "      <td>1.000000</td>\n",
       "      <td>1150.500000</td>\n",
       "      <td>1852.500000</td>\n",
       "      <td>596.500000</td>\n",
       "      <td>181.000000</td>\n",
       "    </tr>\n",
       "    <tr>\n",
       "      <th>max</th>\n",
       "      <td>2720.000000</td>\n",
       "      <td>3584.000000</td>\n",
       "      <td>2.000000</td>\n",
       "      <td>1830.000000</td>\n",
       "      <td>3058.000000</td>\n",
       "      <td>1095.000000</td>\n",
       "      <td>579.000000</td>\n",
       "    </tr>\n",
       "  </tbody>\n",
       "</table>\n",
       "</div>"
      ],
      "text/plain": [
       "             width       height    zone_type     zone_col     zone_row  \\\n",
       "count  1000.000000  1000.000000  1000.000000   660.000000   660.000000   \n",
       "mean   2125.276000  2735.698000     0.725000   808.927273  1308.813636   \n",
       "std     585.006178   724.824685     0.574199   414.598628   698.596510   \n",
       "min    1200.000000  1575.000000     0.000000    29.000000     1.000000   \n",
       "25%    1728.000000  2292.000000     0.000000   561.000000   813.750000   \n",
       "50%    2544.000000  3258.000000     1.000000   715.000000  1211.500000   \n",
       "75%    2592.000000  3300.000000     1.000000  1150.500000  1852.500000   \n",
       "max    2720.000000  3584.000000     2.000000  1830.000000  3058.000000   \n",
       "\n",
       "        zone_width  zone_height  \n",
       "count   660.000000   660.000000  \n",
       "mean    434.856061   143.706061  \n",
       "std     229.106523    77.788057  \n",
       "min      69.000000    35.000000  \n",
       "25%     264.000000    86.000000  \n",
       "50%     365.500000   124.500000  \n",
       "75%     596.500000   181.000000  \n",
       "max    1095.000000   579.000000  "
      ]
     },
     "metadata": {},
     "execution_count": 14
    }
   ],
   "metadata": {}
  },
  {
   "cell_type": "code",
   "execution_count": 15,
   "source": [
    "# Получить изображения."
   ],
   "outputs": [],
   "metadata": {}
  },
  {
   "cell_type": "code",
   "execution_count": 16,
   "source": [
    "def read_image(path):\n",
    "    return cv2.cvtColor(cv2.imread(str(path)), cv2.COLOR_BAYER_BG2GRAY)\n",
    "\n",
    "def create_mask(bb, x, class_index):\n",
    "    \"\"\"Создаем маску для bounding box'a такого же шейпа как и изображение\"\"\"\n",
    "    rows,cols, _ = x.shape\n",
    "    y_ind = np.zeros((rows, cols)) # Нужно больше каналов.\n",
    "    y_cat = np.zeros((rows, cols , len(class_names)-1))\n",
    "    bb = bb.astype(np.int)\n",
    "\n",
    "    if class_index > 0:\n",
    "        y_ind[bb[1]:bb[3]+bb[1],bb[0]: bb[2]+bb[0]] = class_index # У нас два класса. И, для каждого из них нужно сделать маску.\n",
    "        y_cat[bb[1]:bb[3]+bb[1],bb[0]: bb[2]+bb[0], class_index-1] = 1\n",
    "    return y_cat, y_ind\n",
    "\n",
    "def create_bb_array(x,class_index):\n",
    "    \"\"\"Генерируем массив bounding box'a из столбца train_df\"\"\"\n",
    "    if class_index == 0:\n",
    "        res = np.array([0,0,0,0]) \n",
    "    else:\n",
    "        res = np.array([x[0],x[1],x[2],x[3]])      \n",
    "    return res\n",
    "\n",
    "#========================================================================================\n",
    "def mask_to_bb(y_cat):\n",
    "    \"\"\"Конвертируем маску Y в bounding box'a, принимая 0 как фоновый ненулевой объект \"\"\"\n",
    "    bbx = []\n",
    "    for i in range(len(class_names)-1):\n",
    "        cols, rows = np.nonzero(y_cat[..., i])\n",
    "        if len(cols) == 0:\n",
    "           bbx.append([0,0,0,0])\n",
    "        else:\n",
    "           top_row = np.min(rows)\n",
    "           left_col = np.min(cols)\n",
    "           bottom_row = np.max(rows)\n",
    "           right_col = np.max(cols)\n",
    "           bbx.append([top_row, left_col, bottom_row-top_row, right_col-left_col])\n",
    "    return np.array(bbx, dtype=np.float32)\n",
    "    \n",
    "#========================================================================================\n",
    "def resize_image_bb(img_size,img_new_size, bb):\n",
    "    width, height =  img_size[0], img_size[1]\n",
    "    new_width, new_height  = img_new_size[0], img_new_size[1]\n",
    "    height_scale = new_height/height\n",
    "    width_scale = new_width/width\n",
    "    bb[0] *= width_scale \n",
    "    bb[1] *= height_scale\n",
    "    bb[2] *= width_scale\n",
    "    bb[3] *= height_scale\n",
    "    return bb "
   ],
   "outputs": [],
   "metadata": {}
  },
  {
   "cell_type": "code",
   "execution_count": 17,
   "source": [
    "df.iloc[54].zone_type"
   ],
   "outputs": [
    {
     "output_type": "execute_result",
     "data": {
      "text/plain": [
       "1"
      ]
     },
     "metadata": {},
     "execution_count": 17
    }
   ],
   "metadata": {}
  },
  {
   "cell_type": "code",
   "execution_count": 18,
   "source": [
    "def view_page(number):\n",
    "    print(str(df['doc_name'][number]))\n",
    "    im = read_image(df.values[number][0])\n",
    "    print(im.shape)\n",
    "    class_index = df.iloc[number].zone_type\n",
    "    \n",
    "    bb = create_bb_array(df.values[number][6:], class_index)\n",
    "    \n",
    "    y_cat, y_ind = create_mask(bb, im, class_index)\n",
    "    bbx = mask_to_bb(y_cat)\n",
    "    \n",
    "    rect = plt.Rectangle((bb[0], bb[1]), bb[2], bb[3],fill=False, color='red')\n",
    "    fig, ax = plt.subplots(1,2,figsize=(10,7))\n",
    "    ax[0].imshow(im)\n",
    "    ax[0].add_patch(rect)\n",
    "    ax[1].imshow(y_ind)\n",
    "    plt.show()"
   ],
   "outputs": [],
   "metadata": {}
  },
  {
   "cell_type": "code",
   "execution_count": 19,
   "source": [
    "view_page(58)"
   ],
   "outputs": [
    {
     "output_type": "stream",
     "name": "stdout",
     "text": [
      "../pages/source/pxp81f00.tif\n"
     ]
    },
    {
     "output_type": "error",
     "ename": "error",
     "evalue": "OpenCV(4.5.3) /tmp/pip-req-build-afu9cjzs/opencv/modules/imgproc/src/demosaicing.cpp:1699: error: (-215:Assertion failed) scn == 1 && dcn == 1 in function 'demosaicing'\n",
     "traceback": [
      "\u001b[0;31m---------------------------------------------------------------------------\u001b[0m",
      "\u001b[0;31merror\u001b[0m                                     Traceback (most recent call last)",
      "\u001b[0;32m/tmp/ipykernel_4329/2051445696.py\u001b[0m in \u001b[0;36m<module>\u001b[0;34m\u001b[0m\n\u001b[0;32m----> 1\u001b[0;31m \u001b[0mview_page\u001b[0m\u001b[0;34m(\u001b[0m\u001b[0;36m58\u001b[0m\u001b[0;34m)\u001b[0m\u001b[0;34m\u001b[0m\u001b[0;34m\u001b[0m\u001b[0m\n\u001b[0m",
      "\u001b[0;32m/tmp/ipykernel_4329/2254144788.py\u001b[0m in \u001b[0;36mview_page\u001b[0;34m(number)\u001b[0m\n\u001b[1;32m      1\u001b[0m \u001b[0;32mdef\u001b[0m \u001b[0mview_page\u001b[0m\u001b[0;34m(\u001b[0m\u001b[0mnumber\u001b[0m\u001b[0;34m)\u001b[0m\u001b[0;34m:\u001b[0m\u001b[0;34m\u001b[0m\u001b[0;34m\u001b[0m\u001b[0m\n\u001b[1;32m      2\u001b[0m     \u001b[0mprint\u001b[0m\u001b[0;34m(\u001b[0m\u001b[0mstr\u001b[0m\u001b[0;34m(\u001b[0m\u001b[0mdf\u001b[0m\u001b[0;34m[\u001b[0m\u001b[0;34m'doc_name'\u001b[0m\u001b[0;34m]\u001b[0m\u001b[0;34m[\u001b[0m\u001b[0mnumber\u001b[0m\u001b[0;34m]\u001b[0m\u001b[0;34m)\u001b[0m\u001b[0;34m)\u001b[0m\u001b[0;34m\u001b[0m\u001b[0;34m\u001b[0m\u001b[0m\n\u001b[0;32m----> 3\u001b[0;31m     \u001b[0mim\u001b[0m \u001b[0;34m=\u001b[0m \u001b[0mread_image\u001b[0m\u001b[0;34m(\u001b[0m\u001b[0mdf\u001b[0m\u001b[0;34m.\u001b[0m\u001b[0mvalues\u001b[0m\u001b[0;34m[\u001b[0m\u001b[0mnumber\u001b[0m\u001b[0;34m]\u001b[0m\u001b[0;34m[\u001b[0m\u001b[0;36m0\u001b[0m\u001b[0;34m]\u001b[0m\u001b[0;34m)\u001b[0m\u001b[0;34m\u001b[0m\u001b[0;34m\u001b[0m\u001b[0m\n\u001b[0m\u001b[1;32m      4\u001b[0m     \u001b[0mprint\u001b[0m\u001b[0;34m(\u001b[0m\u001b[0mim\u001b[0m\u001b[0;34m.\u001b[0m\u001b[0mshape\u001b[0m\u001b[0;34m)\u001b[0m\u001b[0;34m\u001b[0m\u001b[0;34m\u001b[0m\u001b[0m\n\u001b[1;32m      5\u001b[0m     \u001b[0mclass_index\u001b[0m \u001b[0;34m=\u001b[0m \u001b[0mdf\u001b[0m\u001b[0;34m.\u001b[0m\u001b[0miloc\u001b[0m\u001b[0;34m[\u001b[0m\u001b[0mnumber\u001b[0m\u001b[0;34m]\u001b[0m\u001b[0;34m.\u001b[0m\u001b[0mzone_type\u001b[0m\u001b[0;34m\u001b[0m\u001b[0;34m\u001b[0m\u001b[0m\n",
      "\u001b[0;32m/tmp/ipykernel_4329/1123470429.py\u001b[0m in \u001b[0;36mread_image\u001b[0;34m(path)\u001b[0m\n\u001b[1;32m      1\u001b[0m \u001b[0;32mdef\u001b[0m \u001b[0mread_image\u001b[0m\u001b[0;34m(\u001b[0m\u001b[0mpath\u001b[0m\u001b[0;34m)\u001b[0m\u001b[0;34m:\u001b[0m\u001b[0;34m\u001b[0m\u001b[0;34m\u001b[0m\u001b[0m\n\u001b[0;32m----> 2\u001b[0;31m     \u001b[0;32mreturn\u001b[0m \u001b[0mcv2\u001b[0m\u001b[0;34m.\u001b[0m\u001b[0mcvtColor\u001b[0m\u001b[0;34m(\u001b[0m\u001b[0mcv2\u001b[0m\u001b[0;34m.\u001b[0m\u001b[0mimread\u001b[0m\u001b[0;34m(\u001b[0m\u001b[0mstr\u001b[0m\u001b[0;34m(\u001b[0m\u001b[0mpath\u001b[0m\u001b[0;34m)\u001b[0m\u001b[0;34m)\u001b[0m\u001b[0;34m,\u001b[0m \u001b[0mcv2\u001b[0m\u001b[0;34m.\u001b[0m\u001b[0mCOLOR_BAYER_BG2GRAY\u001b[0m\u001b[0;34m)\u001b[0m\u001b[0;34m\u001b[0m\u001b[0;34m\u001b[0m\u001b[0m\n\u001b[0m\u001b[1;32m      3\u001b[0m \u001b[0;34m\u001b[0m\u001b[0m\n\u001b[1;32m      4\u001b[0m \u001b[0;32mdef\u001b[0m \u001b[0mcreate_mask\u001b[0m\u001b[0;34m(\u001b[0m\u001b[0mbb\u001b[0m\u001b[0;34m,\u001b[0m \u001b[0mx\u001b[0m\u001b[0;34m,\u001b[0m \u001b[0mclass_index\u001b[0m\u001b[0;34m)\u001b[0m\u001b[0;34m:\u001b[0m\u001b[0;34m\u001b[0m\u001b[0;34m\u001b[0m\u001b[0m\n\u001b[1;32m      5\u001b[0m     \u001b[0;34m\"\"\"Создаем маску для bounding box'a такого же шейпа как и изображение\"\"\"\u001b[0m\u001b[0;34m\u001b[0m\u001b[0;34m\u001b[0m\u001b[0m\n",
      "\u001b[0;31merror\u001b[0m: OpenCV(4.5.3) /tmp/pip-req-build-afu9cjzs/opencv/modules/imgproc/src/demosaicing.cpp:1699: error: (-215:Assertion failed) scn == 1 && dcn == 1 in function 'demosaicing'\n"
     ]
    }
   ],
   "metadata": {}
  },
  {
   "cell_type": "code",
   "execution_count": null,
   "source": [
    "view_page(24)"
   ],
   "outputs": [
    {
     "output_type": "stream",
     "name": "stdout",
     "text": [
      "../pages/source/cxk72e00-page03_1.tif\n"
     ]
    },
    {
     "output_type": "display_data",
     "data": {
      "image/png": "[encoded data removed]",
      "text/plain": [
       "<Figure size 720x504 with 2 Axes>"
      ]
     },
     "metadata": {
      "needs_background": "light"
     }
    }
   ],
   "metadata": {}
  },
  {
   "cell_type": "code",
   "execution_count": null,
   "source": [
    "view_page(3)"
   ],
   "outputs": [
    {
     "output_type": "stream",
     "name": "stdout",
     "text": [
      "../pages/source/jon00a00.tif\n"
     ]
    },
    {
     "output_type": "display_data",
     "data": {
      "image/png": "[encoded data removed]",
      "text/plain": [
       "<Figure size 720x504 with 2 Axes>"
      ]
     },
     "metadata": {
      "needs_background": "light"
     }
    }
   ],
   "metadata": {}
  },
  {
   "cell_type": "code",
   "execution_count": 22,
   "source": [
    "# Приведем все изображения к единому размеру.\n",
    "# При обучении модели будем подавать изображения в сеть по частям.\n",
    "\n",
    "# Т.к. лого и подписи врядли попадут в одни и теже квадраты, то будем отправлять \n",
    "# то будем применять самый простой алгоритм обучения. А, затем все склеим в вернем результаты."
   ],
   "outputs": [],
   "metadata": {}
  },
  {
   "cell_type": "code",
   "execution_count": 23,
   "source": [
    "# Отобразить извлеченные объекты на изображении."
   ],
   "outputs": [],
   "metadata": {}
  },
  {
   "cell_type": "markdown",
   "source": [
    "Могут быть одинаковы изображения, Просто на одних размечены только подписи, ан на других логотоипы."
   ],
   "metadata": {}
  },
  {
   "cell_type": "code",
   "execution_count": 24,
   "source": [
    "# Попробуем изменить размер исходного изображения. \n",
    "# Это упростит процесс расплзнавания."
   ],
   "outputs": [],
   "metadata": {}
  },
  {
   "cell_type": "code",
   "execution_count": 25,
   "source": [
    "new_image_paths = []\n",
    "new_mask_paths = []\n",
    "class_index = []\n",
    "old_width = []\n",
    "old_height = []\n",
    "zone_col = []\n",
    "zone_row = []\n",
    "zone_width = []\n",
    "zone_height = []\n",
    "\n",
    "image_path_resized = Path(DATA_ROOT+'source_prepare')\n",
    "Path.mkdir(image_path_resized, exist_ok=True)\n",
    "\n",
    "mask_path_resized = Path(DATA_ROOT+'mask_prepare')\n",
    "Path.mkdir(mask_path_resized, exist_ok=True)\n",
    "\n",
    "for index, row in tqdm(df.iterrows()):\n",
    "    try: \n",
    "        im_path = Path(row['doc_name'])\n",
    "        # Проверим. существуетли файл. \n",
    "        img = cv2.imread(str(im_path))\n",
    "\n",
    "        img_height = img.shape[0]\n",
    "        img_width = img.shape[1]\n",
    "\n",
    "        im_resized = cv2.resize(img, IM_SIZE)\n",
    "        new_image_path = str(image_path_resized/im_path.parts[-1])\n",
    "        cv2.imwrite(new_image_path, im_resized)\n",
    "#=============================================================\n",
    "        curren_class = row['zone_type']\n",
    "        bb = create_bb_array(row.values[6:], curren_class)\n",
    "        # y_cat, _ = create_mask(bb, img, curren_class)\n",
    "        bb_resized = resize_image_bb((img_width,img_height),IM_SIZE,bb)\n",
    "        # название маски\n",
    "#=============================================================\n",
    "        col,row, width, height = bb_resized\n",
    "      \n",
    "        new_image_paths.append(new_image_path)\n",
    "        old_height.append(img_height)\n",
    "        old_width.append(img_width)\n",
    "        class_index.append(curren_class)\n",
    "        zone_col.append(col)\n",
    "        zone_row.append(row)\n",
    "        zone_width.append(width)\n",
    "        zone_height.append(height)\n",
    "        \n",
    "    except Exception as ex:\n",
    "        print(index, ex)\n",
    "    \n",
    "df_resize = pd.DataFrame({'doc_name':new_image_paths,\n",
    "                          'old_width': old_width, 'old_height': old_height,\n",
    "                          'zone_type': class_index, \n",
    "                          'zone_col': zone_col, 'zone_row':zone_row, \n",
    "                          'zone_width':zone_width, 'zone_height':zone_height})"
   ],
   "outputs": [
    {
     "output_type": "stream",
     "name": "stderr",
     "text": [
      "1000it [00:33, 29.92it/s]\n"
     ]
    }
   ],
   "metadata": {}
  },
  {
   "cell_type": "markdown",
   "source": [
    "# Составить таблицу для хранения координат объектов на изображении. "
   ],
   "metadata": {}
  },
  {
   "cell_type": "code",
   "execution_count": 26,
   "source": [
    "df_resize.head()"
   ],
   "outputs": [
    {
     "output_type": "execute_result",
     "data": {
      "text/html": [
       "<div>\n",
       "<style scoped>\n",
       "    .dataframe tbody tr th:only-of-type {\n",
       "        vertical-align: middle;\n",
       "    }\n",
       "\n",
       "    .dataframe tbody tr th {\n",
       "        vertical-align: top;\n",
       "    }\n",
       "\n",
       "    .dataframe thead th {\n",
       "        text-align: right;\n",
       "    }\n",
       "</style>\n",
       "<table border=\"1\" class=\"dataframe\">\n",
       "  <thead>\n",
       "    <tr style=\"text-align: right;\">\n",
       "      <th></th>\n",
       "      <th>doc_name</th>\n",
       "      <th>old_width</th>\n",
       "      <th>old_height</th>\n",
       "      <th>zone_type</th>\n",
       "      <th>zone_col</th>\n",
       "      <th>zone_row</th>\n",
       "      <th>zone_width</th>\n",
       "      <th>zone_height</th>\n",
       "    </tr>\n",
       "  </thead>\n",
       "  <tbody>\n",
       "    <tr>\n",
       "      <th>0</th>\n",
       "      <td>../pages/source_prepare/mcm24f00_2.tif</td>\n",
       "      <td>1200</td>\n",
       "      <td>1575</td>\n",
       "      <td>0</td>\n",
       "      <td>0.000000</td>\n",
       "      <td>0.000000</td>\n",
       "      <td>0.000000</td>\n",
       "      <td>0.000000</td>\n",
       "    </tr>\n",
       "    <tr>\n",
       "      <th>1</th>\n",
       "      <td>../pages/source_prepare/nsr05f00_2.tif</td>\n",
       "      <td>1200</td>\n",
       "      <td>1575</td>\n",
       "      <td>0</td>\n",
       "      <td>0.000000</td>\n",
       "      <td>0.000000</td>\n",
       "      <td>0.000000</td>\n",
       "      <td>0.000000</td>\n",
       "    </tr>\n",
       "    <tr>\n",
       "      <th>2</th>\n",
       "      <td>../pages/source_prepare/adh36e00-page2_2.tif</td>\n",
       "      <td>2560</td>\n",
       "      <td>3246</td>\n",
       "      <td>1</td>\n",
       "      <td>288.750000</td>\n",
       "      <td>591.250770</td>\n",
       "      <td>210.000000</td>\n",
       "      <td>106.223044</td>\n",
       "    </tr>\n",
       "    <tr>\n",
       "      <th>3</th>\n",
       "      <td>../pages/source_prepare/jon00a00.tif</td>\n",
       "      <td>2504</td>\n",
       "      <td>3111</td>\n",
       "      <td>1</td>\n",
       "      <td>329.233227</td>\n",
       "      <td>637.222758</td>\n",
       "      <td>160.063898</td>\n",
       "      <td>78.174221</td>\n",
       "    </tr>\n",
       "    <tr>\n",
       "      <th>4</th>\n",
       "      <td>../pages/source_prepare/byd23a00.tif</td>\n",
       "      <td>1728</td>\n",
       "      <td>2292</td>\n",
       "      <td>1</td>\n",
       "      <td>290.625000</td>\n",
       "      <td>353.926702</td>\n",
       "      <td>104.861111</td>\n",
       "      <td>47.120419</td>\n",
       "    </tr>\n",
       "  </tbody>\n",
       "</table>\n",
       "</div>"
      ],
      "text/plain": [
       "                                       doc_name  old_width  old_height  \\\n",
       "0        ../pages/source_prepare/mcm24f00_2.tif       1200        1575   \n",
       "1        ../pages/source_prepare/nsr05f00_2.tif       1200        1575   \n",
       "2  ../pages/source_prepare/adh36e00-page2_2.tif       2560        3246   \n",
       "3          ../pages/source_prepare/jon00a00.tif       2504        3111   \n",
       "4          ../pages/source_prepare/byd23a00.tif       1728        2292   \n",
       "\n",
       "   zone_type    zone_col    zone_row  zone_width  zone_height  \n",
       "0          0    0.000000    0.000000    0.000000     0.000000  \n",
       "1          0    0.000000    0.000000    0.000000     0.000000  \n",
       "2          1  288.750000  591.250770  210.000000   106.223044  \n",
       "3          1  329.233227  637.222758  160.063898    78.174221  \n",
       "4          1  290.625000  353.926702  104.861111    47.120419  "
      ]
     },
     "metadata": {},
     "execution_count": 26
    }
   ],
   "metadata": {}
  },
  {
   "cell_type": "code",
   "execution_count": 27,
   "source": [
    "def view_page_1(number):\n",
    "    print(str(df_resize['doc_name'][number]))\n",
    "    im = cv2.imread(str(df_resize.values[number][0]))\n",
    "    class_index = df_resize.iloc[number].zone_type\n",
    "    \n",
    "    bb = create_bb_array(df_resize.values[number][4:], class_index)\n",
    "    \n",
    "    y_cat, y_ind = create_mask(bb, im, class_index)\n",
    "    bbx = mask_to_bb(y_cat)\n",
    "\n",
    "    rect = plt.Rectangle((bb[0], bb[1]), bb[2], bb[3],fill=False, color='red')\n",
    "    fig, ax = plt.subplots(1,2,figsize=(10,7))\n",
    "    ax[0].imshow(im)\n",
    "    ax[0].add_patch(rect)\n",
    "    ax[1].imshow(y_ind)\n",
    "    plt.show()"
   ],
   "outputs": [],
   "metadata": {}
  },
  {
   "cell_type": "code",
   "execution_count": 28,
   "source": [
    "view_page_1(3)"
   ],
   "outputs": [
    {
     "output_type": "stream",
     "name": "stdout",
     "text": [
      "../pages/source_prepare/jon00a00.tif\n"
     ]
    },
    {
     "output_type": "display_data",
     "data": {
      "image/png": "[encoded data removed]",
      "text/plain": [
       "<Figure size 720x504 with 2 Axes>"
      ]
     },
     "metadata": {
      "needs_background": "light"
     }
    }
   ],
   "metadata": {}
  },
  {
   "cell_type": "code",
   "execution_count": 29,
   "source": [
    "# Разделим выборку на тестовую и тренировочную."
   ],
   "outputs": [],
   "metadata": {}
  },
  {
   "cell_type": "code",
   "execution_count": 30,
   "source": [
    "# Создадим заготовку нейронной сети."
   ],
   "outputs": [],
   "metadata": {}
  },
  {
   "cell_type": "markdown",
   "source": [
    "# Обучим нейронную сеть поочередно на одной и другой выборках. "
   ],
   "metadata": {}
  },
  {
   "cell_type": "code",
   "execution_count": null,
   "source": [
    "X_train_gray = X_train[0].copy()\n",
    "print(\"X_train_grey image data shape =\", X_train_gray.shape)\n",
    "X_train_gray = cv2.cvtColor(X_train_gray, cv2.COLOR_BGR2GRAY)\n",
    "print(\"X_train_grey image data shape =\", X_train_gray.shape)\n",
    "\n",
    "np.reshape(...,-1)# Помоему так было."
   ],
   "outputs": [],
   "metadata": {}
  },
  {
   "cell_type": "code",
   "execution_count": null,
   "source": [
    "num_classes = len(classes_df)"
   ],
   "outputs": [],
   "metadata": {}
  },
  {
   "cell_type": "code",
   "execution_count": null,
   "source": [
    "# create the base pre-trained model\n",
    "# base_model = ResNet50(weights='imagenet', input_shape=(256,256,3), include_top=False)\n",
    "base_model = VGG16(weights='imagenet', input_shape=(256,256,3), include_top=False)\n",
    " \n",
    "base_out = base_model.output\n",
    "\n",
    "up = UpSampling2D(32, interpolation='bilinear')(base_out)\n",
    "conv = Conv2D(num_classes, (3,3),padding='same')(up)\n",
    "conv = Activation('softmax')(conv)\n",
    "\n",
    "model = Model(inputs=base_model.input, outputs=conv)"
   ],
   "outputs": [],
   "metadata": {}
  },
  {
   "cell_type": "code",
   "execution_count": null,
   "source": [
    "for X_test, y_test in keras_generator(test_df,batch_size=5):\n",
    "  break"
   ],
   "outputs": [],
   "metadata": {}
  },
  {
   "cell_type": "code",
   "execution_count": null,
   "source": [
    "def show_predictions(model,class_index=None):\n",
    "    pred_mask = model.predict(sample_image[None])[0]\n",
    "    \n",
    "    fig, ax = plt.subplots(1, 3, figsize=(15, 8))\n",
    "    if not  class_index: \n",
    "      sample_m = LayersToRGBImage(sample_mask)\n",
    "      pred_m = LayersToRGBImage(pred_mask)\n",
    "      \n",
    "    else:\n",
    "      sample_m = sample_mask[...,class_index]\n",
    "      pred_m = pred_mask[...,class_index]>0.5\n",
    "      print('Class_Name:',classes_df.iloc[class_index][0])\n",
    "\n",
    "    # plt.imshow(mask)\n",
    "    ax[0].imshow(sample_image)\n",
    "    ax[1].imshow(sample_m)\n",
    "    ax[2].imshow(pred_m)\n",
    "    plt.show()\n",
    "\n",
    "class DisplayCallback(keras.callbacks.Callback):\n",
    "    def __init__(self, patience=1):\n",
    "        super().__init__()\n",
    "        self.patience = patience\n",
    "    \n",
    "    def on_train_begin(self, logs=None):\n",
    "        self.wait = 0\n",
    "\n",
    "    def on_epoch_end(self, epoch, logs=None):\n",
    "        self.wait += 1\n",
    "        if self.wait >= self.patience:\n",
    "            # clear_output(wait=True)\n",
    "            show_predictions(self.model,class_index=17)\n",
    "            print(f'\\nSample Prediction after epoch {epoch+1}')\n",
    "            self.wait = 0"
   ],
   "outputs": [],
   "metadata": {}
  },
  {
   "cell_type": "code",
   "execution_count": null,
   "source": [
    "Создадим генератор для подачи изображений в сеть."
   ],
   "outputs": [],
   "metadata": {}
  },
  {
   "cell_type": "code",
   "execution_count": null,
   "source": [
    "show_predictions(model,class_index=17)"
   ],
   "outputs": [],
   "metadata": {}
  },
  {
   "cell_type": "code",
   "execution_count": null,
   "source": [
    "checkpoint_best = keras.callbacks.ModelCheckpoint('model_best.h5',\n",
    "                                                  monitor='val_loss',\n",
    "                                                  verbose=0,\n",
    "                                                  save_best_only=True,\n",
    "                                                  save_weights_only=False,\n",
    "                                                  mode='auto',\n",
    "#                                                 period=1,\n",
    "                                                 )\n",
    "\n",
    "checkpoint_last = keras.callbacks.ModelCheckpoint('model_last.h5',\n",
    "                                                  monitor='val_loss',\n",
    "                                                  verbose=0,\n",
    "                                                  save_best_only=False,\n",
    "                                                  save_weights_only=False,\n",
    "                                                  mode='auto',\n",
    "#                                                 period=1\n",
    "                                                 )\n",
    "\n",
    "\n",
    "callbacks = [checkpoint_best, checkpoint_last,DisplayCallback(patience=1)]\n",
    "\n",
    "\n",
    "adam = keras.optimizers.Adam(learning_rate=0.001)\n",
    "\n",
    "model.compile(adam, loss='categorical_crossentropy')"
   ],
   "outputs": [],
   "metadata": {}
  },
  {
   "cell_type": "code",
   "execution_count": null,
   "source": [
    "# create the base pre-trained model\n",
    "# base_model = ResNet50(weights='imagenet', input_shape=(256,256,3), include_top=False)\n",
    "base_model = VGG16(weights='imagenet', input_shape=(256,256,3), include_top=False)\n",
    "\n",
    "for layer in base_model.layers[:-5]:\n",
    "    layer.trainable = False\n",
    "\n",
    "base_out = base_model.output"
   ],
   "outputs": [],
   "metadata": {}
  },
  {
   "cell_type": "code",
   "execution_count": null,
   "source": [
    "base_model.summary()"
   ],
   "outputs": [],
   "metadata": {}
  },
  {
   "cell_type": "code",
   "execution_count": null,
   "source": [
    "conv1 = base_model.get_layer('block1_conv2').output\n",
    "conv2 = base_model.get_layer('block2_conv2').output\n",
    "conv3 = base_model.get_layer('block3_conv2').output\n",
    "conv4 = base_model.get_layer('block4_conv2').output\n",
    "conv5 = base_model.get_layer('block5_conv2').output"
   ],
   "outputs": [],
   "metadata": {}
  },
  {
   "cell_type": "code",
   "execution_count": null,
   "source": [
    "up1 = UpSampling2D(size=(2, 2),interpolation='bilinear')(conv5)\n",
    "conc_1 = Concatenate()([up1,conv4])\n",
    "conv_conc_1 = Conv2D(256,(3,3),padding='same')(conc_1)\n",
    "conv_conc_1 = BatchNormalization()(conv_conc_1)\n",
    "conv_conc_1 = Activation('relu')(conv_conc_1)\n",
    "\n",
    "up2 = UpSampling2D(size=(2, 2),interpolation='bilinear')(conv_conc_1)\n",
    "conc_2 = Concatenate()([up2,conv3])\n",
    "conv_conc_2 = Conv2D(64,(3,3),padding='same')(conc_2)\n",
    "conv_conc_2 = BatchNormalization()(conv_conc_2)\n",
    "conv_conc_2 = Activation('relu')(conv_conc_2)\n",
    "\n",
    "up3 = UpSampling2D(size=(2, 2),interpolation='bilinear')(conv_conc_2)\n",
    "conc_3 = Concatenate()([up3,conv2])\n",
    "conv_conc_3 = Conv2D(64,(3,3),padding='same')(conc_3)\n",
    "conv_conc_3 = BatchNormalization()(conv_conc_3)\n",
    "conv_conc_3 = Activation('relu')(conv_conc_3)\n",
    "\n",
    "up4 = UpSampling2D(size=(2, 2),interpolation='bilinear')(conv_conc_3)\n",
    "conc_4 = Concatenate()([up4,conv1])\n",
    "conv_conc_4 = Conv2D(32,(3,3),padding='same')(conc_4)\n",
    "conv_conc_4 = BatchNormalization()(conv_conc_4)\n",
    "conv_conc_4 = Activation('relu')(conv_conc_4)\n",
    "\n",
    "# up = UpSampling2D(2, interpolation='bilinear')(conv_conc_4)\n",
    "conv = Conv2D(num_classes, (3, 3), padding='same')(conv_conc_4)\n",
    "conv = Activation('softmax')(conv)\n",
    "\n",
    "# model = Model(inputs=inp, outputs=result)\n",
    "\n",
    "model = Model(inputs=base_model.input, outputs=conv)"
   ],
   "outputs": [],
   "metadata": {}
  },
  {
   "cell_type": "code",
   "execution_count": null,
   "source": [
    "adam = keras.optimizers.Adam(learning_rate=0.001)\n",
    "\n",
    "model.compile(adam, loss='categorical_crossentropy', metrics = ['accuracy'])"
   ],
   "outputs": [],
   "metadata": {}
  },
  {
   "cell_type": "code",
   "execution_count": null,
   "source": [
    "batch_size = 4\n",
    "history = model.fit(keras_generator(train_df,batch_size),\n",
    "              steps_per_epoch=100,\n",
    "              epochs=5,\n",
    "              verbose=1,\n",
    "              callbacks=callbacks,\n",
    "              # validation_data=keras_generator(test_df,batch_size),\n",
    "              # validation_steps=50,\n",
    "              class_weight=None,\n",
    "              max_queue_size=10,\n",
    "              workers=1,\n",
    "              use_multiprocessing=False,\n",
    "              shuffle=True,\n",
    "              initial_epoch=0)"
   ],
   "outputs": [],
   "metadata": {}
  },
  {
   "cell_type": "code",
   "execution_count": null,
   "source": [
    "loss = history.history[\"val_loss\"]\n",
    "acc = history.history[\"val_accuracy\"] #accuracy\n",
    "\n",
    "plt.plot(loss)\n",
    "plt.plot(acc)\n",
    "\n",
    "plt.show"
   ],
   "outputs": [],
   "metadata": {}
  },
  {
   "cell_type": "code",
   "execution_count": null,
   "source": [
    "pred = model.predict(X_test)"
   ],
   "outputs": [],
   "metadata": {}
  },
  {
   "cell_type": "code",
   "execution_count": null,
   "source": [
    "show_predictions(model)"
   ],
   "outputs": [],
   "metadata": {}
  },
  {
   "cell_type": "code",
   "execution_count": null,
   "source": [
    "# Прогоним модель и посмотрим в каком варианте у нас изображение получится на выходе."
   ],
   "outputs": [],
   "metadata": {}
  }
 ],
 "metadata": {
  "orig_nbformat": 4,
  "language_info": {
   "name": "python",
   "version": "3.8.11",
   "mimetype": "text/x-python",
   "codemirror_mode": {
    "name": "ipython",
    "version": 3
   },
   "pygments_lexer": "ipython3",
   "nbconvert_exporter": "python",
   "file_extension": ".py"
  },
  "kernelspec": {
   "name": "python3",
   "display_name": "Python 3.8.11 64-bit ('flask_env': conda)"
  },
  "interpreter": {
   "hash": "62dd627b42f7be5ac4860eaea1da73cb3512da440d2a8d50504113f4a8e682ee"
  }
 },
 "nbformat": 4,
 "nbformat_minor": 2
}